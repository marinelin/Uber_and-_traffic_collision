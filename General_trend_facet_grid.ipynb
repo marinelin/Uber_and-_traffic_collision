{
 "cells": [
  {
   "cell_type": "code",
   "execution_count": 1,
   "metadata": {},
   "outputs": [],
   "source": [
    "reset -fs"
   ]
  },
  {
   "cell_type": "code",
   "execution_count": 2,
   "metadata": {},
   "outputs": [],
   "source": [
    "# this only need to be run once\n",
    "%load_ext rpy2.ipython"
   ]
  },
  {
   "cell_type": "code",
   "execution_count": 3,
   "metadata": {},
   "outputs": [],
   "source": [
    "import pandas as pd\n",
    "import numpy as np\n",
    "import os\n",
    "import glob"
   ]
  },
  {
   "cell_type": "code",
   "execution_count": 4,
   "metadata": {},
   "outputs": [
    {
     "data": {
      "text/plain": [
       "array(['ggplot2', 'tools', 'stats', 'graphics', 'grDevices', 'utils',\n",
       "       'datasets', 'methods', 'base'], dtype='<U9')"
      ]
     },
     "execution_count": 4,
     "metadata": {},
     "output_type": "execute_result"
    }
   ],
   "source": [
    "%R library(ggplot2)"
   ]
  },
  {
   "cell_type": "code",
   "execution_count": 703,
   "metadata": {},
   "outputs": [],
   "source": [
    "# import datasets\n",
    "path = r'data' # use your path\n",
    "all_files = glob.glob(path + \"/*36.csv\")"
   ]
  },
  {
   "cell_type": "code",
   "execution_count": 704,
   "metadata": {},
   "outputs": [],
   "source": [
    "# 2019 is different format, handle separately\n",
    "filename = 'data/fars_2009_31.csv'\n",
    "df9 = pd.read_csv(filename, index_col=None, header=0, dtype={'malcohol': int, \"icity\": str, \"istatenum\": int, \"pnumber\": int, \"atmcond\": int, \"saccdate\": str})\n",
    "df9.rename(columns = {'istatenum':'statenum', \"icasenum\": \"casenum\", 'icity':'city', 'saccdate': 'accdate'}, inplace = True)\n",
    "df9 = df9[['statenum','casenum', 'city', 'accdate', 'malcohol', 'dayofweek','longitude','latitude']]\n",
    "#df['malcohol'].replace('.', '0')\n",
    "#df9['malcohol'] = df9['malcohol'].astype(int)"
   ]
  },
  {
   "cell_type": "code",
   "execution_count": 705,
   "metadata": {},
   "outputs": [
    {
     "name": "stderr",
     "output_type": "stream",
     "text": [
      "/Users/linmeng/anaconda3/lib/python3.7/site-packages/IPython/core/interactiveshell.py:3049: DtypeWarning: Columns (15,18) have mixed types. Specify dtype option on import or set low_memory=False.\n",
      "  interactivity=interactivity, compiler=compiler, result=result)\n"
     ]
    },
    {
     "data": {
      "text/plain": [
       "Index(['statenum', 'casenum', 'vnumber', 'pnumber', 'atmcond', 'city',\n",
       "       'county', 'accdate', 'acctime', 'dayofweek', 'driverdrowsy', 'holiday',\n",
       "       'latdeg', 'lightcond', 'londeg', 'manncol', 'numfatal', 'speeding',\n",
       "       'age', 'alcres', 'drugres1', 'injury', 'ptype', 'seatpos', 'sex',\n",
       "       'hitrun', 'dricondatcrashtime', 'malcohol', 'prevdwi', 'prevacc',\n",
       "       'prevspd', 'crashtype', 'criticalevent', 'dridistract', 'driavoidmanvr',\n",
       "       'drivisobs'],\n",
       "      dtype='object')"
      ]
     },
     "execution_count": 705,
     "metadata": {},
     "output_type": "execute_result"
    }
   ],
   "source": [
    "pd.read_csv('fars_2017_36.csv').columns"
   ]
  },
  {
   "cell_type": "code",
   "execution_count": 707,
   "metadata": {},
   "outputs": [],
   "source": [
    "# 2010 - 2017 'malcohol': int,\n",
    "li = []\n",
    "\n",
    "for filename in all_files:\n",
    "    df = pd.read_csv(filename, index_col=None, header=0, dtype={ 'malcohol': int,\"city\": str,\"pnumber\": int, \"atmcond\": int, \"accdate\": str})\n",
    "    df = df[['statenum','casenum', 'city', 'accdate', 'malcohol', 'dayofweek']]\n",
    "    li.append(df)\n",
    "\n",
    "li.append(df9)\n",
    "frame = pd.concat(li, axis=0, ignore_index=True, sort = False)"
   ]
  },
  {
   "cell_type": "code",
   "execution_count": 45,
   "metadata": {},
   "outputs": [],
   "source": [
    "#2005 bc it's different \n",
    "Five=pd.read_csv('2005.csv')\n",
    "Five=Five.fillna(0)\n",
    "Five.rename(columns = {'istatenum':'statenum', \"icasenum\": \"casenum\", 'icity':'city', 'saccdate': 'accdate','ialcinvol':'malcohol'}, inplace = True)\n",
    "Five_c=Five[['statenum','casenum', 'city', 'accdate', 'malcohol', 'dayofweek']]"
   ]
  },
  {
   "cell_type": "code",
   "execution_count": 27,
   "metadata": {},
   "outputs": [],
   "source": [
    "#import 2006 dataset \n",
    "six=pd.read_csv('2006.csv')\n",
    "six=six.fillna(0)\n",
    "six.rename(columns = {'istatenum':'statenum', \"icasenum\": \"casenum\", 'icity':'city', 'saccdate': 'accdate','ialcinvol':'malcohol'}, inplace = True)\n",
    "six_c=six[['statenum','casenum', 'city', 'accdate', 'malcohol', 'dayofweek']]"
   ]
  },
  {
   "cell_type": "code",
   "execution_count": 28,
   "metadata": {},
   "outputs": [],
   "source": [
    "#2007\n",
    "sev=pd.read_csv('2007.csv')\n",
    "sev=sev.fillna(0)\n",
    "sev.rename(columns = {'istatenum':'statenum', \"icasenum\": \"casenum\", 'icity':'city', 'saccdate': 'accdate','ialcinvol':'malcohol'}, inplace = True)\n",
    "sev_c=sev[['statenum','casenum', 'city', 'accdate', 'malcohol', 'dayofweek']]"
   ]
  },
  {
   "cell_type": "code",
   "execution_count": 29,
   "metadata": {},
   "outputs": [],
   "source": [
    "#2008\n",
    "eight=pd.read_csv('2008.csv')\n",
    "eight=eight.fillna(0)\n",
    "eight.rename(columns = {'istatenum':'statenum', \"icasenum\": \"casenum\", 'icity':'city', 'saccdate': 'accdate','ialcinvol':'malcohol'}, inplace = True)\n",
    "eight_c=eight[['statenum','casenum', 'city', 'accdate', 'malcohol', 'dayofweek']]"
   ]
  },
  {
   "cell_type": "code",
   "execution_count": 30,
   "metadata": {},
   "outputs": [],
   "source": [
    "later_half=Five_c.append(six_c).append(sev_c).append(eight_c) #append all the years together\n",
    "frame=frame.append(later_half)"
   ]
  },
  {
   "cell_type": "code",
   "execution_count": 709,
   "metadata": {},
   "outputs": [],
   "source": [
    "frame['year'] = frame['accdate'].str[-4:]       # clean the accdate to get the year variable\n",
    "frame['accdate']=frame['accdate'].apply(lambda date: str(date).zfill(8))\n",
    "frame['month']=frame['accdate'].str[:2]\n",
    "frame['month']=frame['month'].apply(lambda x:int(x))"
   ]
  },
  {
   "cell_type": "code",
   "execution_count": 711,
   "metadata": {},
   "outputs": [
    {
     "data": {
      "text/plain": [
       "(648029, 10)"
      ]
     },
     "execution_count": 711,
     "metadata": {},
     "output_type": "execute_result"
    }
   ],
   "source": [
    "frame.shape   #inspect the shape of out data"
   ]
  },
  {
   "cell_type": "markdown",
   "metadata": {},
   "source": [
    "# San Francisco dataset "
   ]
  },
  {
   "cell_type": "code",
   "execution_count": 317,
   "metadata": {},
   "outputs": [],
   "source": [
    "SF=frame.loc[(frame.statenum == 6.0)& (frame.city == '3290')&(frame.malcohol != 1)]\n",
    "sf_c=SF.groupby('year').agg({'casenum':'count'}).reset_index()"
   ]
  },
  {
   "cell_type": "markdown",
   "metadata": {},
   "source": [
    "# Los Angeles dataset"
   ]
  },
  {
   "cell_type": "code",
   "execution_count": 712,
   "metadata": {},
   "outputs": [],
   "source": [
    "la = frame.loc[(frame.statenum == 6.0) & (frame.city == '1980')  & (frame.malcohol != 1)]\n",
    "la = la.groupby('year').agg({'casenum':'count'}).reset_index()"
   ]
  },
  {
   "cell_type": "markdown",
   "metadata": {},
   "source": [
    "# SAN JOSE dataset"
   ]
  },
  {
   "cell_type": "code",
   "execution_count": 713,
   "metadata": {},
   "outputs": [],
   "source": [
    "sj = frame.loc[(frame.statenum == 6) & (frame.city == '3340')  & (frame.malcohol != 1)]\n",
    "sj = sj.groupby('year').agg({'casenum':'count'}).reset_index()"
   ]
  },
  {
   "cell_type": "markdown",
   "metadata": {},
   "source": [
    "# create city variable for the datasets "
   ]
  },
  {
   "cell_type": "code",
   "execution_count": 714,
   "metadata": {
    "scrolled": true
   },
   "outputs": [],
   "source": [
    "la['city']='LA'\n",
    "sj['city']='San Jose'\n",
    "sf_c['city']='San Francisco'"
   ]
  },
  {
   "cell_type": "markdown",
   "metadata": {},
   "source": [
    "# generate a complete dataset with SF, LA,SJ for facet_grid"
   ]
  },
  {
   "cell_type": "code",
   "execution_count": 360,
   "metadata": {},
   "outputs": [],
   "source": [
    "summ=la.append(sj).append(sf_c)\n",
    "summ['c']=0 #set color variable as 0\n",
    "summ.loc[(summ.city=='LA')&(summ.year>='2012'),'c']=1\n",
    "summ.loc[(summ.city=='San Francisco')&(summ.year>='2010'),'c']=1\n",
    "summ.loc[(summ.city=='San Jose')&(summ.year>='2010'),'c']=1\n",
    "summ.c=summ.c.astype(str)    #generate a color variable to identify trend before and after TNC is introduced "
   ]
  },
  {
   "cell_type": "code",
   "execution_count": 643,
   "metadata": {},
   "outputs": [],
   "source": [
    "summ_a=summ.loc[summ.c=='1']"
   ]
  },
  {
   "cell_type": "code",
   "execution_count": 644,
   "metadata": {},
   "outputs": [],
   "source": [
    "%R -i summ -i summ_a"
   ]
  },
  {
   "cell_type": "markdown",
   "metadata": {},
   "source": [
    "data set for geom_text, TNC introduce date"
   ]
  },
  {
   "cell_type": "code",
   "execution_count": 422,
   "metadata": {},
   "outputs": [
    {
     "data": {
      "text/html": [
       "<div>\n",
       "<style scoped>\n",
       "    .dataframe tbody tr th:only-of-type {\n",
       "        vertical-align: middle;\n",
       "    }\n",
       "\n",
       "    .dataframe tbody tr th {\n",
       "        vertical-align: top;\n",
       "    }\n",
       "\n",
       "    .dataframe thead th {\n",
       "        text-align: right;\n",
       "    }\n",
       "</style>\n",
       "<table border=\"1\" class=\"dataframe\">\n",
       "  <thead>\n",
       "    <tr style=\"text-align: right;\">\n",
       "      <th></th>\n",
       "      <th>city</th>\n",
       "      <th>year</th>\n",
       "      <th>lyft</th>\n",
       "    </tr>\n",
       "  </thead>\n",
       "  <tbody>\n",
       "    <tr>\n",
       "      <th>0</th>\n",
       "      <td>San Francisco</td>\n",
       "      <td>6</td>\n",
       "      <td>8</td>\n",
       "    </tr>\n",
       "    <tr>\n",
       "      <th>1</th>\n",
       "      <td>LA</td>\n",
       "      <td>8</td>\n",
       "      <td>9</td>\n",
       "    </tr>\n",
       "    <tr>\n",
       "      <th>2</th>\n",
       "      <td>San Jose</td>\n",
       "      <td>6</td>\n",
       "      <td>8</td>\n",
       "    </tr>\n",
       "  </tbody>\n",
       "</table>\n",
       "</div>"
      ],
      "text/plain": [
       "            city  year  lyft\n",
       "0  San Francisco     6     8\n",
       "1             LA     8     9\n",
       "2       San Jose     6     8"
      ]
     },
     "execution_count": 422,
     "metadata": {},
     "output_type": "execute_result"
    }
   ],
   "source": [
    "data=[['San Francisco',6,8],['LA',8,9],['San Jose',6,8]]\n",
    "data=pd.DataFrame(data)\n",
    "data.columns=['city','year','lyft']\n",
    "data"
   ]
  },
  {
   "cell_type": "markdown",
   "metadata": {},
   "source": [
    "data set for geom_text city label"
   ]
  },
  {
   "cell_type": "code",
   "execution_count": 474,
   "metadata": {},
   "outputs": [
    {
     "data": {
      "text/html": [
       "<div>\n",
       "<style scoped>\n",
       "    .dataframe tbody tr th:only-of-type {\n",
       "        vertical-align: middle;\n",
       "    }\n",
       "\n",
       "    .dataframe tbody tr th {\n",
       "        vertical-align: top;\n",
       "    }\n",
       "\n",
       "    .dataframe thead th {\n",
       "        text-align: right;\n",
       "    }\n",
       "</style>\n",
       "<table border=\"1\" class=\"dataframe\">\n",
       "  <thead>\n",
       "    <tr style=\"text-align: right;\">\n",
       "      <th></th>\n",
       "      <th>city</th>\n",
       "      <th>y</th>\n",
       "    </tr>\n",
       "  </thead>\n",
       "  <tbody>\n",
       "    <tr>\n",
       "      <th>0</th>\n",
       "      <td>LA</td>\n",
       "      <td>800</td>\n",
       "    </tr>\n",
       "    <tr>\n",
       "      <th>1</th>\n",
       "      <td>San Francisco</td>\n",
       "      <td>150</td>\n",
       "    </tr>\n",
       "    <tr>\n",
       "      <th>2</th>\n",
       "      <td>San Jose</td>\n",
       "      <td>150</td>\n",
       "    </tr>\n",
       "  </tbody>\n",
       "</table>\n",
       "</div>"
      ],
      "text/plain": [
       "            city    y\n",
       "0             LA  800\n",
       "1  San Francisco  150\n",
       "2       San Jose  150"
      ]
     },
     "execution_count": 474,
     "metadata": {},
     "output_type": "execute_result"
    }
   ],
   "source": [
    "text=[['LA',800],['San Francisco',150],['San Jose',150]]\n",
    "text=pd.DataFrame(text)\n",
    "text.columns=['city','y']\n",
    "text"
   ]
  },
  {
   "cell_type": "markdown",
   "metadata": {},
   "source": [
    "text label for percentage increase "
   ]
  },
  {
   "cell_type": "code",
   "execution_count": 692,
   "metadata": {},
   "outputs": [
    {
     "data": {
      "text/html": [
       "<div>\n",
       "<style scoped>\n",
       "    .dataframe tbody tr th:only-of-type {\n",
       "        vertical-align: middle;\n",
       "    }\n",
       "\n",
       "    .dataframe tbody tr th {\n",
       "        vertical-align: top;\n",
       "    }\n",
       "\n",
       "    .dataframe thead th {\n",
       "        text-align: right;\n",
       "    }\n",
       "</style>\n",
       "<table border=\"1\" class=\"dataframe\">\n",
       "  <thead>\n",
       "    <tr style=\"text-align: right;\">\n",
       "      <th></th>\n",
       "      <th>city</th>\n",
       "      <th>x</th>\n",
       "      <th>y</th>\n",
       "      <th>label</th>\n",
       "    </tr>\n",
       "  </thead>\n",
       "  <tbody>\n",
       "    <tr>\n",
       "      <th>0</th>\n",
       "      <td>LA</td>\n",
       "      <td>8</td>\n",
       "      <td>560</td>\n",
       "      <td>+10.9%</td>\n",
       "    </tr>\n",
       "    <tr>\n",
       "      <th>1</th>\n",
       "      <td>San Francisco</td>\n",
       "      <td>6</td>\n",
       "      <td>75</td>\n",
       "      <td>+6%</td>\n",
       "    </tr>\n",
       "    <tr>\n",
       "      <th>2</th>\n",
       "      <td>San Jose</td>\n",
       "      <td>6</td>\n",
       "      <td>120</td>\n",
       "      <td>+15.5%</td>\n",
       "    </tr>\n",
       "  </tbody>\n",
       "</table>\n",
       "</div>"
      ],
      "text/plain": [
       "            city  x    y   label\n",
       "0             LA  8  560  +10.9%\n",
       "1  San Francisco  6   75     +6%\n",
       "2       San Jose  6  120  +15.5%"
      ]
     },
     "execution_count": 692,
     "metadata": {},
     "output_type": "execute_result"
    }
   ],
   "source": [
    "per_text=[['LA',8,560,'+10.9%'],['San Francisco',6,75,'+6%'],['San Jose',6,120,'+15.5%']]\n",
    "per_text=pd.DataFrame(per_text)\n",
    "per_text.columns=['city','x','y','label']\n",
    "per_text"
   ]
  },
  {
   "cell_type": "markdown",
   "metadata": {},
   "source": [
    "text label data set for color"
   ]
  },
  {
   "cell_type": "code",
   "execution_count": 620,
   "metadata": {
    "scrolled": true
   },
   "outputs": [
    {
     "data": {
      "text/html": [
       "<div>\n",
       "<style scoped>\n",
       "    .dataframe tbody tr th:only-of-type {\n",
       "        vertical-align: middle;\n",
       "    }\n",
       "\n",
       "    .dataframe tbody tr th {\n",
       "        vertical-align: top;\n",
       "    }\n",
       "\n",
       "    .dataframe thead th {\n",
       "        text-align: right;\n",
       "    }\n",
       "</style>\n",
       "<table border=\"1\" class=\"dataframe\">\n",
       "  <thead>\n",
       "    <tr style=\"text-align: right;\">\n",
       "      <th></th>\n",
       "      <th>city</th>\n",
       "      <th>x</th>\n",
       "      <th>y</th>\n",
       "      <th>ymax</th>\n",
       "    </tr>\n",
       "  </thead>\n",
       "  <tbody>\n",
       "    <tr>\n",
       "      <th>0</th>\n",
       "      <td>LA</td>\n",
       "      <td>8</td>\n",
       "      <td>380</td>\n",
       "      <td>500</td>\n",
       "    </tr>\n",
       "    <tr>\n",
       "      <th>1</th>\n",
       "      <td>San Francisco</td>\n",
       "      <td>6</td>\n",
       "      <td>53</td>\n",
       "      <td>57</td>\n",
       "    </tr>\n",
       "    <tr>\n",
       "      <th>2</th>\n",
       "      <td>San Jose</td>\n",
       "      <td>6</td>\n",
       "      <td>52</td>\n",
       "      <td>57</td>\n",
       "    </tr>\n",
       "  </tbody>\n",
       "</table>\n",
       "</div>"
      ],
      "text/plain": [
       "            city  x    y  ymax\n",
       "0             LA  8  380   500\n",
       "1  San Francisco  6   53    57\n",
       "2       San Jose  6   52    57"
      ]
     },
     "execution_count": 620,
     "metadata": {},
     "output_type": "execute_result"
    }
   ],
   "source": [
    "color=[['LA',8,380,410],['San Francisco',6,53,57],['San Jose',6,52,56]]\n",
    "color=pd.DataFrame(color)\n",
    "color.columns=['city','x','y','ymax']\n",
    "color"
   ]
  },
  {
   "cell_type": "code",
   "execution_count": 715,
   "metadata": {},
   "outputs": [],
   "source": [
    "summ=summ[summ.year!='2017'] # we are only inspectin 2005-2016 "
   ]
  },
  {
   "cell_type": "markdown",
   "metadata": {},
   "source": [
    "# calculate the percentage increase for different cities "
   ]
  },
  {
   "cell_type": "code",
   "execution_count": 683,
   "metadata": {},
   "outputs": [
    {
     "data": {
      "text/plain": [
       "0.155115"
      ]
     },
     "execution_count": 683,
     "metadata": {},
     "output_type": "execute_result"
    }
   ],
   "source": [
    "p=summ.groupby(['city','year']).agg({'casenum':'sum'}).reset_index()\n",
    "p['per']=p.sort_values(['year']).groupby('city')[['casenum']].pct_change()\n",
    "p.groupby('city').agg({'per':'mean'})\n",
    "(0.084433+0.041363-0.128505+0.436997)/4\n",
    "(0.057692-0.290909-0.025641+0.315789+0.200000+0.1)/6\n",
    "(0.156863+0.440678-0.141176+0.178082+0.511628-0.215385)/6"
   ]
  },
  {
   "cell_type": "code",
   "execution_count": 569,
   "metadata": {},
   "outputs": [],
   "source": [
    "%R -i color -i text -i data -i summ -i per_text"
   ]
  },
  {
   "cell_type": "code",
   "execution_count": 701,
   "metadata": {},
   "outputs": [
    {
     "data": {
      "image/png": "[encoded data removed]"
     },
     "metadata": {},
     "output_type": "display_data"
    }
   ],
   "source": [
    "%%R\n",
    "ggplot(data=summ,aes(x=year, y=casenum),color='grey') + geom_line(group=1,alpha=0.5,linetype = \"dashed\")+\n",
    "facet_grid(city~.,scales=\"free\")+\n",
    "#theme(panel.background = element_blank())+\n",
    "geom_line(data=summ_a,aes(x=year,y=casenum,group=1),color='darkred',size=1)+\n",
    "geom_vline(data= data, aes(xintercept=lyft),color='hotpink',size=1)+\n",
    "geom_vline(data= data, aes(xintercept=year),color='navyblue',size=1)+\n",
    "theme_bw()+theme(strip.text.y = element_blank(),panel.grid.major = element_blank(), \n",
    "                 ,panel.grid.minor = element_blank(),legend.position=\"none\")+\n",
    "geom_text(data=text,mapping=aes(x = 11, y = y, label = city),fontface = \"bold\",size=5)+\n",
    "geom_text(data=per_text,mapping=aes(x = 12, y = y, label = label),color='darkred')+\n",
    "xlab('')+ylab('Number Of Fatalities Per Year')\n",
    "#annotate(data=color,aes(x = x,xend=x+1,y = y,yend=ymax),color='darkred',size=1.5)\n"
   ]
  }
 ],
 "metadata": {
  "kernelspec": {
   "display_name": "Python 3",
   "language": "python",
   "name": "python3"
  },
  "language_info": {
   "codemirror_mode": {
    "name": "ipython",
    "version": 3
   },
   "file_extension": ".py",
   "mimetype": "text/x-python",
   "name": "python",
   "nbconvert_exporter": "python",
   "pygments_lexer": "ipython3",
   "version": "3.7.3"
  }
 },
 "nbformat": 4,
 "nbformat_minor": 2
}
